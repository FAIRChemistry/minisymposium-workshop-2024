{
 "cells": [
  {
   "cell_type": "markdown",
   "metadata": {},
   "source": [
    "<div>\n",
    "<img src=\"img/CRC1333_long.png\" style=\"float: right\" height=\"150\"/>\n",
    "</div>\n",
    "\n",
    "<div>\n",
    "<img src=\"img/RDM_course_2024_alpha_crop.png\" height=\"150\"/>\n",
    "</div>\n",
    "\n",
    "# **Minisymposium 2024**\n",
    "\n",
    "## **INF Workshop**\n",
    "\n",
    "> **2024-05-17**\n",
    "\n",
    "---"
   ]
  },
  {
   "cell_type": "code",
   "execution_count": null,
   "metadata": {
    "metadata": {}
   },
   "outputs": [],
   "source": [
    "# Import required packages\n",
    "from pathlib import Path\n",
    "from chromatopy.tools import ChromAnalyzer\n",
    "from chromatopy.tools.calibration import Calibrator\n",
    "\n",
    "\n",
    "# Set the path to the data directory\n",
    "data_dir = Path().cwd() / \"data\""
   ]
  },
  {
   "cell_type": "markdown",
   "metadata": {},
   "source": [
    "### **Chromatopy, a tool for HPLC**"
   ]
  },
  {
   "cell_type": "markdown",
   "metadata": {},
   "source": [
    "#### **Experimental scenario**"
   ]
  },
  {
   "cell_type": "markdown",
   "metadata": {},
   "source": [
    "> **Enzymatic aldol condensation of oxaloacetate and acetyl-CoA to citrate via citrate synthase.**\n",
    "\n",
    "The chromatograpfic experiment consits of the following measurements:\n",
    "1. 10 samples of a substrate standard in the concentration range of 0.05 to 1 $mmol \\cdot L^{-1}$\n",
    "2. Kinetic measurements\n",
    "    - 6 samples of a substrate with an inital concentration of 1.78 $mmol \\cdot L^{-1}$ and co-substrate of 10 $mmol \\cdot L^{-1}$\n",
    "    - 6 samples of a substrate with an inital concentration of 3.12 $mmol \\cdot L^{-1}$ and co-substrate of 10 $mmol \\cdot L^{-1}$\n",
    "\n",
    "Samples were taken in 1 min intervals for 5 min.\n",
    "\n",
    "##### Retention time table\n",
    "\n",
    "| Species | Retention time (min) |\n",
    "|---------|-----------------------|\n",
    "| Oxaloacetate | 21.35 |\n",
    "| Acetyl-CoA | - |\n",
    "| Citrate | 22.67 |\n",
    "\n",
    "##### Chebi ID table\n",
    "\n",
    "| Species | Chebi ID |\n",
    "|---------|----------|\n",
    "| Oxaloacetate | 16452 |\n",
    "| Acetyl-CoA | 15351 |\n",
    "| Citrate | 30769 |"
   ]
  },
  {
   "cell_type": "markdown",
   "metadata": {},
   "source": [
    "> ##### Inspect the [**Chromatopy data model**](https://github.com/FAIRChemistry/chromatopy/blob/main/chromatopy/schemes/chromatopy_schema.md)"
   ]
  },
  {
   "cell_type": "markdown",
   "metadata": {},
   "source": [
    "#### **Calibration measurements**"
   ]
  },
  {
   "cell_type": "markdown",
   "metadata": {},
   "source": [
    "All output files of the HPLC are deposited in the `data` directory. Therein, the calibration data is located in `calibration` folder and the kinetic data in `kinetic` folder. Each folder within `kinetic` contains the measurement data for the time-course series of one experimental condition."
   ]
  },
  {
   "cell_type": "code",
   "execution_count": null,
   "metadata": {},
   "outputs": [],
   "source": [
    "# Define retention times\n",
    "ret_oxaloacetate = 21.35\n",
    "ret_citrate = 22.67\n",
    "\n",
    "# Define Chebi IDs\n",
    "chebi_oxaloacetate = 16452\n",
    "chebi_acecoa = 15351\n",
    "chebi_citrate = 30769"
   ]
  },
  {
   "cell_type": "code",
   "execution_count": null,
   "metadata": {},
   "outputs": [],
   "source": [
    "# Load data with ChromAnalyzer\n",
    "calib_analyzer = ChromAnalyzer.read_data(data_dir / \"calibration\")\n",
    "\n",
    "# plot the calibration data\n",
    "calib_analyzer.plot_measurements()"
   ]
  },
  {
   "cell_type": "markdown",
   "metadata": {},
   "source": [
    "After all files from the `calibration` directory are loaded into the `ChromAnalyzer`, an `Analyte` can be added to the ChromAnalyzer. By using the `add_analyte()` method, the characteristic retention time of the analyte is defined. Furthermore, a name and the Chebi ID of the analyte are provided, simultaniously defining some meta-data."
   ]
  },
  {
   "cell_type": "code",
   "execution_count": null,
   "metadata": {},
   "outputs": [],
   "source": [
    "# Collect all peaks belonging to the substrate and combine them to a species\n",
    "substrate_species = calib_analyzer.add_species(\n",
    "    name=\"Oxaloacetate\", retention_time=21.35, chebi=chebi_oxaloacetate\n",
    ")"
   ]
  },
  {
   "cell_type": "markdown",
   "metadata": {},
   "source": [
    "The `Calibrator` of `chromatopy` is already imported in the first cell of this document. In the following cell, it is used to create a calibration object which can be used to calculate the concentration of the substrate in the kinetic experiments."
   ]
  },
  {
   "cell_type": "code",
   "execution_count": null,
   "metadata": {},
   "outputs": [],
   "source": [
    "# Define concentrations and corresponding unit\n",
    "concentrations = [0.05, 0.1, 0.2, 0.3, 0.4, 0.5, 0.6, 0.7, 0.8, 0.9, 1.0]\n",
    "conc_unit = \"mmol/L\"\n",
    "\n",
    "# Create a calibrator for the substrate\n",
    "substrate_calibrator = Calibrator.from_species(\n",
    "    species=substrate_species, concentrations=concentrations, conc_unit=conc_unit\n",
    ")\n",
    "\n",
    "# Plot the calibration curve\n",
    "substrate_calibrator.plot()"
   ]
  },
  {
   "cell_type": "markdown",
   "metadata": {},
   "source": [
    "For the concentration calculation of the product, a calibration factor of 199030 should be used. In this case a `Calibrator` is defined, wherein only the slope is defined."
   ]
  },
  {
   "cell_type": "code",
   "execution_count": null,
   "metadata": {},
   "outputs": [],
   "source": [
    "product_calibrator = Calibrator(\n",
    "    name=\"Citrate\", slope=199030, conc_unit=\"mmol/L\", chebi=chebi_citrate\n",
    ")"
   ]
  },
  {
   "cell_type": "markdown",
   "metadata": {},
   "source": [
    "#### **Kinetic measurements**"
   ]
  },
  {
   "cell_type": "markdown",
   "metadata": {},
   "source": [
    "It is advised to group chromatographic data in folder. Each folder should contain the chromatographic data of one experimental condition."
   ]
  },
  {
   "cell_type": "code",
   "execution_count": null,
   "metadata": {},
   "outputs": [],
   "source": [
    "# Define path to data\n",
    "cond1_path = data_dir / \"kinetic/substrate_10mM_co-substrate3.12mM\"\n",
    "cond2_path = data_dir / \"kinetic/substrate_10mM_co-substreate1.78mM\"\n",
    "\n",
    "# Define species present in the kinetic measurements\n",
    "cond1_analyzer = ChromAnalyzer.read_data(cond1_path)\n",
    "cond2_analyzer = ChromAnalyzer.read_data(cond2_path)\n",
    "\n",
    "# Add species to the chromatograms\n",
    "cond1_analyzer.plot_measurements()\n",
    "cond2_analyzer.plot_measurements()"
   ]
  },
  {
   "cell_type": "markdown",
   "metadata": {},
   "source": [
    "Besides defining the species of measurements, the reaction time can be provided to the species."
   ]
  },
  {
   "cell_type": "code",
   "execution_count": null,
   "metadata": {},
   "outputs": [],
   "source": [
    "time_unit = \"s\"\n",
    "reaction_times = [0, 60, 120, 180, 240, 300]\n",
    "\n",
    "# Assign species to the peaks of measurements of condition 1\n",
    "\n",
    "# Substrate\n",
    "cond1_analyzer.add_species(\n",
    "    name=\"Oxaloacetate\",\n",
    "    retention_time=24.35,\n",
    "    chebi=chebi_oxaloacetate,\n",
    "    init_conc=1.78,\n",
    "    conc_unit=\"mmol/L\",\n",
    "    reaction_times=reaction_times,\n",
    "    time_unit=time_unit,\n",
    ")\n",
    "\n",
    "# Product\n",
    "cond1_analyzer.add_species(\n",
    "    name=\"Citrate\",\n",
    "    retention_time=22.67,\n",
    "    chebi=chebi_citrate,\n",
    "    init_conc=0,\n",
    "    conc_unit=\"mmol/L\",\n",
    "    reaction_times=reaction_times,\n",
    "    time_unit=time_unit,\n",
    ")\n",
    "\n",
    "# Catalyst\n",
    "cond1_analyzer.add_species(\n",
    "    name=\"Catalyst\", uniprot_id=\"P00395\", init_conc=0.1, conc_unit=\"mmol/L\"\n",
    ")\n",
    "\n",
    "# Co-substrate\n",
    "cond1_analyzer.add_species(\n",
    "    name=\"Acetyl-CoA\", init_conc=10, conc_unit=\"mmol/L\", chebi=chebi_acecoa\n",
    ")"
   ]
  },
  {
   "cell_type": "code",
   "execution_count": null,
   "metadata": {},
   "outputs": [],
   "source": [
    "# Assign species to the peaks of measurements of condition 2\n",
    "\n",
    "# Substrate\n",
    "cond2_analyzer.add_species(\n",
    "    name=\"Oxaloacetate\",\n",
    "    retention_time=24.35,\n",
    "    chebi=chebi_oxaloacetate,\n",
    "    init_conc=3.12,\n",
    "    conc_unit=\"mmol/L\",\n",
    "    reaction_times=reaction_times,\n",
    "    time_unit=time_unit,\n",
    ")\n",
    "\n",
    "# Product\n",
    "cond2_analyzer.add_species(\n",
    "    name=\"Citrate\",\n",
    "    retention_time=22.67,\n",
    "    chebi=chebi_citrate,\n",
    "    init_conc=0,\n",
    "    conc_unit=\"mmol/L\",\n",
    "    reaction_times=reaction_times,\n",
    "    time_unit=time_unit,\n",
    ")\n",
    "\n",
    "# Catalyst\n",
    "cond2_analyzer.add_species(\n",
    "    name=\"Catalyst\", uniprot_id=\"P00395\", init_conc=0.1, conc_unit=\"mmol/L\"\n",
    ")\n",
    "\n",
    "# Co-substrate\n",
    "cond2_analyzer.add_species(\n",
    "    name=\"Acetyl-CoA\", init_conc=10, conc_unit=\"mmol/L\", chebi=chebi_acecoa\n",
    ")"
   ]
  },
  {
   "cell_type": "markdown",
   "metadata": {},
   "source": [
    "Instead of adding the calibrators to each analyzer individually, a for loop can be used to iterate over all analyzers and add the calibrators."
   ]
  },
  {
   "cell_type": "code",
   "execution_count": null,
   "metadata": {},
   "outputs": [],
   "source": [
    "# Combine all analyzers into a list\n",
    "all_analyzers = [cond1_analyzer, cond2_analyzer]\n",
    "\n",
    "# Iterate over all analyzers and add the calibrators\n",
    "for analyzer in all_analyzers:\n",
    "    analyzer.calibrators.append(substrate_calibrator)\n",
    "    analyzer.calibrators.append(product_calibrator)"
   ]
  },
  {
   "cell_type": "code",
   "execution_count": null,
   "metadata": {},
   "outputs": [],
   "source": [
    "cond1_analyzer.plot_concentrations()"
   ]
  },
  {
   "cell_type": "markdown",
   "metadata": {},
   "source": [
    "#### **Save the results**"
   ]
  },
  {
   "cell_type": "markdown",
   "metadata": {},
   "source": [
    "The CSV files can be used directly with other software like Excel or Python. The JSON files can be used to automatically create DaRUS datasets with rich annotated metadata."
   ]
  },
  {
   "cell_type": "code",
   "execution_count": null,
   "metadata": {},
   "outputs": [],
   "source": [
    "with open(data_dir / \"substrate_10mM_co-substrate3.12mM_metadata.json\", \"w\") as file:\n",
    "    file.write(cond1_analyzer.model_dump_json(indent=4))\n",
    "cond1_analyzer.to_csv(data_dir / \"substrate_10mM_co-substrate3.12mM.csv\")\n",
    "\n",
    "with open(data_dir / \"substrate_10mM_co-substrate1.78mM_metadata.json\", \"w\") as file:\n",
    "    file.write(cond1_analyzer.model_dump_json(indent=4))\n",
    "cond1_analyzer.to_csv(data_dir / \"substrate_10mM_co-substrate1.78mM.csv\")"
   ]
  },
  {
   "cell_type": "markdown",
   "metadata": {},
   "source": [
    "#### **What comes next?**"
   ]
  },
  {
   "cell_type": "markdown",
   "metadata": {},
   "source": [
    "As a next development, data from the `ChromAnalyzer` will be exportable as EnzymeML files, allowing to interface different modeling and analysis tools. Having all data in the standardized form of an EnzymeML document, allows swift combination of data from different experiments with different initial conditions.\n",
    "\n",
    "For relevant HPLC (or GC) instruments, additional parsers can be developed to allow `chromatopy` to be used for datasets from these instruments."
   ]
  },
  {
   "cell_type": "code",
   "execution_count": null,
   "metadata": {},
   "outputs": [],
   "source": []
  }
 ],
 "metadata": {
  "kernelspec": {
   "display_name": ".venv",
   "language": "python",
   "name": "python3"
  },
  "language_info": {
   "codemirror_mode": {
    "name": "ipython",
    "version": 3
   },
   "file_extension": ".py",
   "mimetype": "text/x-python",
   "name": "python",
   "nbconvert_exporter": "python",
   "pygments_lexer": "ipython3",
   "version": "3.11.9"
  }
 },
 "nbformat": 4,
 "nbformat_minor": 2
}
